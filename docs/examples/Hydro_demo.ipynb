{
 "cells": [
  {
   "cell_type": "code",
   "execution_count": 2,
   "id": "e3b60545",
   "metadata": {},
   "outputs": [
    {
     "data": {
      "text/html": [
       "\n",
       "            <style>\n",
       "                .geemap-dark {\n",
       "                    --jp-widgets-color: white;\n",
       "                    --jp-widgets-label-color: white;\n",
       "                    --jp-ui-font-color1: white;\n",
       "                    --jp-layout-color2: #454545;\n",
       "                    background-color: #383838;\n",
       "                }\n",
       "\n",
       "                .geemap-dark .jupyter-button {\n",
       "                    --jp-layout-color3: #383838;\n",
       "                }\n",
       "\n",
       "                .geemap-colab {\n",
       "                    background-color: var(--colab-primary-surface-color, white);\n",
       "                }\n",
       "\n",
       "                .geemap-colab .jupyter-button {\n",
       "                    --jp-layout-color3: var(--colab-primary-surface-color, white);\n",
       "                }\n",
       "            </style>\n",
       "            "
      ],
      "text/plain": [
       "<IPython.core.display.HTML object>"
      ]
     },
     "metadata": {},
     "output_type": "display_data"
    },
    {
     "data": {
      "application/vnd.jupyter.widget-view+json": {
       "model_id": "940802203cfd4001a1576f05e012b3ae",
       "version_major": 2,
       "version_minor": 0
      },
      "text/plain": [
       "VBox(children=(HBox(children=(ToggleButtons(button_style='info', options=('Flood', 'Watershed'), tooltips=('Si…"
      ]
     },
     "metadata": {},
     "output_type": "display_data"
    },
    {
     "data": {
      "application/vnd.jupyter.widget-view+json": {
       "model_id": "ac4fddd4217f4c028a09e8d4c81288d2",
       "version_major": 2,
       "version_minor": 0
      },
      "text/plain": [
       "Output()"
      ]
     },
     "metadata": {},
     "output_type": "display_data"
    },
    {
     "data": {
      "application/vnd.jupyter.widget-view+json": {
       "model_id": "2af51af9043443e6afd124c3334d7571",
       "version_major": 2,
       "version_minor": 0
      },
      "text/plain": [
       "gb_map(center=[30.35, -91.1], controls=(ZoomControl(options=['position', 'zoom_in_text', 'zoom_in_title', 'zoo…"
      ]
     },
     "execution_count": 2,
     "metadata": {},
     "output_type": "execute_result"
    },
    {
     "ename": "AttributeError",
     "evalue": "'gb_map' object has no attribute 'add_layer_control'",
     "output_type": "error",
     "traceback": [
      "\u001b[31m---------------------------------------------------------------------------\u001b[39m",
      "\u001b[31mAttributeError\u001b[39m                            Traceback (most recent call last)",
      "\u001b[36mFile \u001b[39m\u001b[32m~\\Documents\\Github\\GeoBay\\GeoBay\\GeoBay.py:599\u001b[39m, in \u001b[36mgb_map.enable_mode_toggle.<locals>.on_reset_clicked\u001b[39m\u001b[34m(b)\u001b[39m\n\u001b[32m    598\u001b[39m \u001b[38;5;28;01mdef\u001b[39;00m\u001b[38;5;250m \u001b[39m\u001b[34mon_reset_clicked\u001b[39m(b):\n\u001b[32m--> \u001b[39m\u001b[32m599\u001b[39m     \u001b[38;5;28;43mself\u001b[39;49m\u001b[43m.\u001b[49m\u001b[43mreset_map\u001b[49m\u001b[43m(\u001b[49m\u001b[43m)\u001b[49m\n\u001b[32m    600\u001b[39m     \u001b[38;5;28;01mwith\u001b[39;00m output:\n\u001b[32m    601\u001b[39m         output.clear_output()\n",
      "\u001b[36mFile \u001b[39m\u001b[32m~\\Documents\\Github\\GeoBay\\GeoBay\\GeoBay.py:672\u001b[39m, in \u001b[36mgb_map.reset_map\u001b[39m\u001b[34m(self)\u001b[39m\n\u001b[32m    669\u001b[39m \u001b[38;5;28;01mif\u001b[39;00m \u001b[38;5;28mhasattr\u001b[39m(\u001b[38;5;28mself\u001b[39m, \u001b[33m\"\u001b[39m\u001b[33mbbox\u001b[39m\u001b[33m\"\u001b[39m):\n\u001b[32m    670\u001b[39m     \u001b[38;5;28;01mdel\u001b[39;00m \u001b[38;5;28mself\u001b[39m.bbox\n\u001b[32m--> \u001b[39m\u001b[32m672\u001b[39m \u001b[38;5;28;43mself\u001b[39;49m\u001b[43m.\u001b[49m\u001b[43madd_layer_control\u001b[49m()\n",
      "\u001b[31mAttributeError\u001b[39m: 'gb_map' object has no attribute 'add_layer_control'"
     ]
    },
    {
     "data": {
      "application/vnd.jupyter.widget-view+json": {
       "model_id": "4eacd67086b244888d10c9ec97f00e08",
       "version_major": 2,
       "version_minor": 0
      },
      "text/plain": [
       "Output()"
      ]
     },
     "metadata": {},
     "output_type": "display_data"
    },
    {
     "ename": "UnboundLocalError",
     "evalue": "cannot access local variable 'flood_mask' where it is not associated with a value",
     "output_type": "error",
     "traceback": [
      "\u001b[31m---------------------------------------------------------------------------\u001b[39m",
      "\u001b[31mUnboundLocalError\u001b[39m                         Traceback (most recent call last)",
      "\u001b[36mFile \u001b[39m\u001b[32m~\\Documents\\Github\\GeoBay\\GeoBay\\GeoBay.py:488\u001b[39m, in \u001b[36mgb_map.enable_draw_bbox.<locals>.draw_wrapper\u001b[39m\u001b[34m(*args, **kwargs)\u001b[39m\n\u001b[32m    486\u001b[39m     handle_draw(args[\u001b[32m0\u001b[39m])  \u001b[38;5;66;03m# called with a single event dict\u001b[39;00m\n\u001b[32m    487\u001b[39m \u001b[38;5;28;01melse\u001b[39;00m:\n\u001b[32m--> \u001b[39m\u001b[32m488\u001b[39m     \u001b[43mhandle_draw\u001b[49m\u001b[43m(\u001b[49m\u001b[43mkwargs\u001b[49m\u001b[43m)\u001b[49m\n",
      "\u001b[36mFile \u001b[39m\u001b[32m~\\Documents\\Github\\GeoBay\\GeoBay\\GeoBay.py:463\u001b[39m, in \u001b[36mgb_map.enable_draw_bbox.<locals>.handle_draw\u001b[39m\u001b[34m(event_dict)\u001b[39m\n\u001b[32m    460\u001b[39m \u001b[38;5;28;01mif\u001b[39;00m elevation_threshold \u001b[38;5;129;01mis\u001b[39;00m \u001b[38;5;129;01mnot\u001b[39;00m \u001b[38;5;28;01mNone\u001b[39;00m:\n\u001b[32m    461\u001b[39m     flood_mask = hydro.simulate_flood(bbox, elevation_threshold)\n\u001b[32m--> \u001b[39m\u001b[32m463\u001b[39m \u001b[38;5;28mself\u001b[39m.add_ee_layer(\u001b[43mflood_mask\u001b[49m, vis_params={\u001b[33m\"\u001b[39m\u001b[33mpalette\u001b[39m\u001b[33m\"\u001b[39m: [\u001b[33m\"\u001b[39m\u001b[33m0000FF\u001b[39m\u001b[33m\"\u001b[39m]}, name=\u001b[33m\"\u001b[39m\u001b[33mSimulated Flood\u001b[39m\u001b[33m\"\u001b[39m)\n\u001b[32m    466\u001b[39m \u001b[38;5;66;03m# Optionally chain to watershed mode\u001b[39;00m\n\u001b[32m    467\u001b[39m \u001b[38;5;28;01mif\u001b[39;00m post_action == \u001b[33m\"\u001b[39m\u001b[33mWatershed\u001b[39m\u001b[33m\"\u001b[39m:\n",
      "\u001b[31mUnboundLocalError\u001b[39m: cannot access local variable 'flood_mask' where it is not associated with a value"
     ]
    },
    {
     "data": {
      "application/vnd.jupyter.widget-view+json": {
       "model_id": "122874ce60fb4b7284958522a5a76c73",
       "version_major": 2,
       "version_minor": 0
      },
      "text/plain": [
       "Output()"
      ]
     },
     "metadata": {},
     "output_type": "display_data"
    },
    {
     "ename": "AttributeError",
     "evalue": "'gb_map' object has no attribute 'add_layer_control'",
     "output_type": "error",
     "traceback": [
      "\u001b[31m---------------------------------------------------------------------------\u001b[39m",
      "\u001b[31mAttributeError\u001b[39m                            Traceback (most recent call last)",
      "\u001b[36mFile \u001b[39m\u001b[32m~\\Documents\\Github\\GeoBay\\GeoBay\\GeoBay.py:599\u001b[39m, in \u001b[36mgb_map.enable_mode_toggle.<locals>.on_reset_clicked\u001b[39m\u001b[34m(b)\u001b[39m\n\u001b[32m    598\u001b[39m \u001b[38;5;28;01mdef\u001b[39;00m\u001b[38;5;250m \u001b[39m\u001b[34mon_reset_clicked\u001b[39m(b):\n\u001b[32m--> \u001b[39m\u001b[32m599\u001b[39m     \u001b[38;5;28;43mself\u001b[39;49m\u001b[43m.\u001b[49m\u001b[43mreset_map\u001b[49m\u001b[43m(\u001b[49m\u001b[43m)\u001b[49m\n\u001b[32m    600\u001b[39m     \u001b[38;5;28;01mwith\u001b[39;00m output:\n\u001b[32m    601\u001b[39m         output.clear_output()\n",
      "\u001b[36mFile \u001b[39m\u001b[32m~\\Documents\\Github\\GeoBay\\GeoBay\\GeoBay.py:672\u001b[39m, in \u001b[36mgb_map.reset_map\u001b[39m\u001b[34m(self)\u001b[39m\n\u001b[32m    669\u001b[39m \u001b[38;5;28;01mif\u001b[39;00m \u001b[38;5;28mhasattr\u001b[39m(\u001b[38;5;28mself\u001b[39m, \u001b[33m\"\u001b[39m\u001b[33mbbox\u001b[39m\u001b[33m\"\u001b[39m):\n\u001b[32m    670\u001b[39m     \u001b[38;5;28;01mdel\u001b[39;00m \u001b[38;5;28mself\u001b[39m.bbox\n\u001b[32m--> \u001b[39m\u001b[32m672\u001b[39m \u001b[38;5;28;43mself\u001b[39;49m\u001b[43m.\u001b[49m\u001b[43madd_layer_control\u001b[49m()\n",
      "\u001b[31mAttributeError\u001b[39m: 'gb_map' object has no attribute 'add_layer_control'"
     ]
    },
    {
     "data": {
      "application/vnd.jupyter.widget-view+json": {
       "model_id": "498bc02769064773bfb516d91d2bbf1b",
       "version_major": 2,
       "version_minor": 0
      },
      "text/plain": [
       "Output()"
      ]
     },
     "metadata": {},
     "output_type": "display_data"
    },
    {
     "data": {
      "application/vnd.jupyter.widget-view+json": {
       "model_id": "0c64b9d94bf64cf08565424dcac0f7ee",
       "version_major": 2,
       "version_minor": 0
      },
      "text/plain": [
       "Output()"
      ]
     },
     "metadata": {},
     "output_type": "display_data"
    },
    {
     "data": {
      "application/vnd.jupyter.widget-view+json": {
       "model_id": "c6de031f2cb04bd9808fb099b3596692",
       "version_major": 2,
       "version_minor": 0
      },
      "text/plain": [
       "Output()"
      ]
     },
     "metadata": {},
     "output_type": "display_data"
    },
    {
     "data": {
      "application/vnd.jupyter.widget-view+json": {
       "model_id": "701ad63c669a4586a758647625fc6e23",
       "version_major": 2,
       "version_minor": 0
      },
      "text/plain": [
       "Output()"
      ]
     },
     "metadata": {},
     "output_type": "display_data"
    },
    {
     "data": {
      "application/vnd.jupyter.widget-view+json": {
       "model_id": "1b3e385a0e8e408cae7ad80fa4e7d5d6",
       "version_major": 2,
       "version_minor": 0
      },
      "text/plain": [
       "Output()"
      ]
     },
     "metadata": {},
     "output_type": "display_data"
    },
    {
     "data": {
      "application/vnd.jupyter.widget-view+json": {
       "model_id": "abb9e62e8f864187a38b8637d52fc8cd",
       "version_major": 2,
       "version_minor": 0
      },
      "text/plain": [
       "Output()"
      ]
     },
     "metadata": {},
     "output_type": "display_data"
    },
    {
     "ename": "AttributeError",
     "evalue": "'gb_map' object has no attribute 'add_layer_control'",
     "output_type": "error",
     "traceback": [
      "\u001b[31m---------------------------------------------------------------------------\u001b[39m",
      "\u001b[31mAttributeError\u001b[39m                            Traceback (most recent call last)",
      "\u001b[36mFile \u001b[39m\u001b[32m~\\Documents\\Github\\GeoBay\\GeoBay\\GeoBay.py:599\u001b[39m, in \u001b[36mgb_map.enable_mode_toggle.<locals>.on_reset_clicked\u001b[39m\u001b[34m(b)\u001b[39m\n\u001b[32m    598\u001b[39m \u001b[38;5;28;01mdef\u001b[39;00m\u001b[38;5;250m \u001b[39m\u001b[34mon_reset_clicked\u001b[39m(b):\n\u001b[32m--> \u001b[39m\u001b[32m599\u001b[39m     \u001b[38;5;28;43mself\u001b[39;49m\u001b[43m.\u001b[49m\u001b[43mreset_map\u001b[49m\u001b[43m(\u001b[49m\u001b[43m)\u001b[49m\n\u001b[32m    600\u001b[39m     \u001b[38;5;28;01mwith\u001b[39;00m output:\n\u001b[32m    601\u001b[39m         output.clear_output()\n",
      "\u001b[36mFile \u001b[39m\u001b[32m~\\Documents\\Github\\GeoBay\\GeoBay\\GeoBay.py:672\u001b[39m, in \u001b[36mgb_map.reset_map\u001b[39m\u001b[34m(self)\u001b[39m\n\u001b[32m    669\u001b[39m \u001b[38;5;28;01mif\u001b[39;00m \u001b[38;5;28mhasattr\u001b[39m(\u001b[38;5;28mself\u001b[39m, \u001b[33m\"\u001b[39m\u001b[33mbbox\u001b[39m\u001b[33m\"\u001b[39m):\n\u001b[32m    670\u001b[39m     \u001b[38;5;28;01mdel\u001b[39;00m \u001b[38;5;28mself\u001b[39m.bbox\n\u001b[32m--> \u001b[39m\u001b[32m672\u001b[39m \u001b[38;5;28;43mself\u001b[39;49m\u001b[43m.\u001b[49m\u001b[43madd_layer_control\u001b[49m()\n",
      "\u001b[31mAttributeError\u001b[39m: 'gb_map' object has no attribute 'add_layer_control'"
     ]
    }
   ],
   "source": [
    "import ee\n",
    "from GeoBay.GeoBay import gb_map\n",
    "\n",
    "ee.Initialize()\n",
    "\n",
    "# Define a test bounding box (Mississippi River floodplain)\n",
    "bbox = ee.Geometry.BBox(-91.3, 30.1, -90.9, 30.6)\n",
    "\n",
    "# Create and show the map\n",
    "m = gb_map(center=[30.35, -91.1], zoom=10)\n",
    "m.add_basemap(\"OpenStreetMap\")\n",
    "m.enable_mode_toggle()\n",
    "\n",
    "m.show_map()\n"
   ]
  },
  {
   "cell_type": "code",
   "execution_count": null,
   "id": "3bdf1820",
   "metadata": {},
   "outputs": [],
   "source": []
  }
 ],
 "metadata": {
  "kernelspec": {
   "display_name": "geo",
   "language": "python",
   "name": "python3"
  },
  "language_info": {
   "codemirror_mode": {
    "name": "ipython",
    "version": 3
   },
   "file_extension": ".py",
   "mimetype": "text/x-python",
   "name": "python",
   "nbconvert_exporter": "python",
   "pygments_lexer": "ipython3",
   "version": "3.11.5"
  }
 },
 "nbformat": 4,
 "nbformat_minor": 5
}

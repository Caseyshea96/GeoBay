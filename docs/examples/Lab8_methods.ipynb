{
 "cells": [
  {
   "cell_type": "code",
   "execution_count": 1,
   "id": "604893bd",
   "metadata": {},
   "outputs": [
    {
     "data": {
      "application/vnd.jupyter.widget-view+json": {
       "model_id": "422b06b6cea2431097f9c5414fac3d82",
       "version_major": 2,
       "version_minor": 0
      },
      "text/plain": [
       "CustomIpyleafletMap(center=[37.7749, -122.4194], controls=(ZoomControl(options=['position', 'zoom_in_text', 'z…"
      ]
     },
     "execution_count": 1,
     "metadata": {},
     "output_type": "execute_result"
    }
   ],
   "source": [
    "from GeoBay.GeoBay import CustomIpyleafletMap as ipyleaflet_Map\n",
    "\n",
    "# Create the map\n",
    "m = ipyleaflet_Map(center=[37.7749, -122.4194], zoom=4)\n",
    "\n",
    "# Add the basemap GUI widget\n",
    "m.add_basemap_gui()\n",
    "\n",
    "# Show the map\n",
    "m.show_map()\n"
   ]
  },
  {
   "cell_type": "code",
   "execution_count": null,
   "id": "2f4715c7",
   "metadata": {},
   "outputs": [],
   "source": []
  }
 ],
 "metadata": {
  "kernelspec": {
   "display_name": "Python 3",
   "language": "python",
   "name": "python3"
  },
  "language_info": {
   "codemirror_mode": {
    "name": "ipython",
    "version": 3
   },
   "file_extension": ".py",
   "mimetype": "text/x-python",
   "name": "python",
   "nbconvert_exporter": "python",
   "pygments_lexer": "ipython3",
   "version": "3.13.0"
  }
 },
 "nbformat": 4,
 "nbformat_minor": 5
}

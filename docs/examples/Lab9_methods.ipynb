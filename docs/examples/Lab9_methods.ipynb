{
 "cells": [
  {
   "cell_type": "markdown",
   "id": "03ef315c",
   "metadata": {},
   "source": [
    "[![Open In Colab](https://colab.research.google.com/assets/colab-badge.svg)](https://colab.research.google.com/github/Caseyshea96/GeoBay/blob/main/docs/examples/Lab9_methods.ipynb)\n"
   ]
  },
  {
   "cell_type": "code",
   "execution_count": null,
   "id": "562f7313",
   "metadata": {},
   "outputs": [],
   "source": [
    "#pip install geobay"
   ]
  },
  {
   "cell_type": "code",
   "execution_count": 1,
   "id": "65e9eb10",
   "metadata": {},
   "outputs": [
    {
     "data": {
      "application/vnd.jupyter.widget-view+json": {
       "model_id": "4a901f9429e2425fbb6168c24b7e5420",
       "version_major": 2,
       "version_minor": 0
      },
      "text/plain": [
       "CustomIpyleafletMap(center=[37.7749, -122.4194], controls=(ZoomControl(options=['position', 'zoom_in_text', 'z…"
      ]
     },
     "execution_count": 1,
     "metadata": {},
     "output_type": "execute_result"
    }
   ],
   "source": [
    "from GeoBay.GeoBay import CustomIpyleafletMap as ipyleaflet_Map\n",
    "\n",
    "# Example 1: Basic map with Search Control\n",
    "\n",
    "m = ipyleaflet_Map(center=[37.7749, -122.4194], zoom=4)\n",
    "m.add_search_control()\n",
    "m.show_map()"
   ]
  },
  {
   "cell_type": "code",
   "execution_count": 2,
   "id": "513b0b83",
   "metadata": {},
   "outputs": [
    {
     "data": {
      "application/vnd.jupyter.widget-view+json": {
       "model_id": "e7012b2a8f9b437982757a71f8407648",
       "version_major": 2,
       "version_minor": 0
      },
      "text/plain": [
       "CustomIpyleafletMap(center=[0, 0], controls=(ZoomControl(options=['position', 'zoom_in_text', 'zoom_in_title',…"
      ]
     },
     "execution_count": 2,
     "metadata": {},
     "output_type": "execute_result"
    }
   ],
   "source": [
    "# Example 2: Adding a custom WMS layer to the map  \n",
    "\n",
    "m = ipyleaflet_Map(center=[0, 0], zoom=2)\n",
    "m.add_esa_worldcover()\n",
    "m.show_map()\n"
   ]
  },
  {
   "cell_type": "code",
   "execution_count": 3,
   "id": "64252205",
   "metadata": {},
   "outputs": [
    {
     "data": {
      "application/vnd.jupyter.widget-view+json": {
       "model_id": "91f0ea9f341945f08f48c2eb5c739e6b",
       "version_major": 2,
       "version_minor": 0
      },
      "text/plain": [
       "CustomIpyleafletMap(center=[np.float64(47.652889015755306), np.float64(-117.59746408579316)], controls=(ZoomCo…"
      ]
     },
     "execution_count": 3,
     "metadata": {},
     "output_type": "execute_result"
    }
   ],
   "source": [
    "#Example 3: Marker Clusters\n",
    "\n",
    "import geopandas as gpd\n",
    "# Load building centroids GeoJSON\n",
    "url = \"https://github.com/opengeos/datasets/releases/download/places/wa_building_centroids.geojson\"\n",
    "gdf = gpd.read_file(url)\n",
    "\n",
    "# Add lat/lon columns from geometry\n",
    "gdf[\"longitude\"] = gdf.geometry.x\n",
    "gdf[\"latitude\"] = gdf.geometry.y\n",
    "\n",
    "# Create map and add circle markers\n",
    "m = ipyleaflet_Map(center=[gdf.latitude.mean(), gdf.longitude.mean()], zoom=14)\n",
    "m.add_circle_markers_from_xy(gdf)\n",
    "m.show_map()\n"
   ]
  },
  {
   "cell_type": "code",
   "execution_count": 10,
   "id": "28b858bb",
   "metadata": {},
   "outputs": [
    {
     "data": {
      "application/vnd.jupyter.widget-view+json": {
       "model_id": "8be1c5f5d2f545b1bc843b8a00ece001",
       "version_major": 2,
       "version_minor": 0
      },
      "text/plain": [
       "CustomIpyleafletMap(center=[47.6588, -117.426], controls=(ZoomControl(options=['position', 'zoom_in_text', 'zo…"
      ]
     },
     "execution_count": 10,
     "metadata": {},
     "output_type": "execute_result"
    }
   ],
   "source": [
    "#Example 4 : Add polygons, road lines, and choropleth\n",
    "from GeoBay.GeoBay import CustomIpyleafletMap as ipyleaflet_Map\n",
    "\n",
    "m = ipyleaflet_Map(center=[47.6588, -117.4260], zoom=12)\n",
    "\n",
    "# Add building polygons\n",
    "m.add_building_polygons(\"https://github.com/opengeos/datasets/releases/download/places/wa_overture_buildings.geojson\")\n",
    "\n",
    "m.add_layer_control()\n",
    "m.show_map()"
   ]
  },
  {
   "cell_type": "code",
   "execution_count": 11,
   "id": "ed646d57",
   "metadata": {},
   "outputs": [
    {
     "data": {
      "application/vnd.jupyter.widget-view+json": {
       "model_id": "78cab3c999874e32a396f55c4f381ec8",
       "version_major": 2,
       "version_minor": 0
      },
      "text/plain": [
       "CustomIpyleafletMap(center=[36.1699, -115.1398], controls=(ZoomControl(options=['position', 'zoom_in_text', 'z…"
      ]
     },
     "execution_count": 11,
     "metadata": {},
     "output_type": "execute_result"
    }
   ],
   "source": [
    "# Add road lines\n",
    "m = ipyleaflet_Map(center=[36.1699, -115.1398], zoom=12)\n",
    "m.add_roads(\"https://github.com/opengeos/datasets/releases/download/places/las_vegas_roads.geojson\")\n",
    "m.add_layer_control()\n",
    "m.show_map()"
   ]
  },
  {
   "cell_type": "code",
   "execution_count": 9,
   "id": "a3ea248b",
   "metadata": {},
   "outputs": [
    {
     "data": {
      "application/vnd.jupyter.widget-view+json": {
       "model_id": "f2a05e574a974ba99c81e70aadb23ba4",
       "version_major": 2,
       "version_minor": 0
      },
      "text/plain": [
       "CustomIpyleafletMap(bottom=411348.0, center=[36.1699, -115.1398], controls=(ZoomControl(options=['position', '…"
      ]
     },
     "execution_count": 9,
     "metadata": {},
     "output_type": "execute_result"
    }
   ],
   "source": [
    "# Add choropleth\n",
    "m.add_choropleth(\"https://github.com/opengeos/datasets/releases/download/us/us_counties.geojson\", \"CENSUSAREA\", colormap=\"YlOrRd_09\")\n",
    "\n",
    "\n",
    "m.add_layer_control()\n",
    "m.show_map()"
   ]
  },
  {
   "cell_type": "code",
   "execution_count": 12,
   "id": "3e759f03",
   "metadata": {},
   "outputs": [
    {
     "name": "stderr",
     "output_type": "stream",
     "text": [
      "Downloading...\n",
      "From: https://github.com/opengeos/datasets/releases/download/raster/Libya-2023-07-01.tif\n",
      "To: c:\\Users\\shea9\\Documents\\Github\\GeoBay\\docs\\examples\\pre_event.tif\n",
      "100%|██████████| 72.1M/72.1M [00:06<00:00, 11.7MB/s]\n",
      "Downloading...\n",
      "From: https://github.com/opengeos/datasets/releases/download/raster/Libya-2023-09-13.tif\n",
      "To: c:\\Users\\shea9\\Documents\\Github\\GeoBay\\docs\\examples\\post_event.tif\n",
      "100%|██████████| 104M/104M [00:08<00:00, 12.4MB/s] \n"
     ]
    },
    {
     "data": {
      "application/vnd.jupyter.widget-view+json": {
       "model_id": "a06993b4a1be470e8a66dc0d936bc295",
       "version_major": 2,
       "version_minor": 0
      },
      "text/plain": [
       "Map(center=[26.33, 17.23], controls=(ZoomControl(options=['position', 'zoom_in_text', 'zoom_in_title', 'zoom_o…"
      ]
     },
     "execution_count": 12,
     "metadata": {},
     "output_type": "execute_result"
    }
   ],
   "source": [
    "# Example 5: Splitmap\n",
    "\n",
    "from GeoBay.GeoBay import CustomIpyleafletMap as ipyleaflet_Map\n",
    "\n",
    "pre_url = \"https://github.com/opengeos/datasets/releases/download/raster/Libya-2023-07-01.tif\"\n",
    "post_url = \"https://github.com/opengeos/datasets/releases/download/raster/Libya-2023-09-13.tif\"\n",
    "\n",
    "m = ipyleaflet_Map(center=[26.33, 17.23], zoom=12)\n",
    "leafmap_split = m.add_split_rasters_leafmap(pre_url, post_url, overwrite=True)\n",
    "leafmap_split\n",
    "\n"
   ]
  },
  {
   "cell_type": "code",
   "execution_count": null,
   "id": "20a98fbf",
   "metadata": {},
   "outputs": [],
   "source": []
  }
 ],
 "metadata": {
  "kernelspec": {
   "display_name": "geo",
   "language": "python",
   "name": "python3"
  },
  "language_info": {
   "codemirror_mode": {
    "name": "ipython",
    "version": 3
   },
   "file_extension": ".py",
   "mimetype": "text/x-python",
   "name": "python",
   "nbconvert_exporter": "python",
   "pygments_lexer": "ipython3",
   "version": "3.11.5"
  }
 },
 "nbformat": 4,
 "nbformat_minor": 5
}

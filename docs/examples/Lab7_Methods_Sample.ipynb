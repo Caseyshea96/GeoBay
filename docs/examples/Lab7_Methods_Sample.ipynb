{
 "cells": [
  {
   "cell_type": "code",
   "execution_count": 16,
   "id": "1ef2d0da",
   "metadata": {},
   "outputs": [],
   "source": [
    "import sys\n",
    "sys.path.append(r'C:\\Users\\shea9\\Documents\\Github\\GeoBay\\GeoBay')\n"
   ]
  },
  {
   "cell_type": "code",
   "execution_count": 21,
   "id": "bf51a994",
   "metadata": {},
   "outputs": [
    {
     "ename": "IndentationError",
     "evalue": "unindent does not match any outer indentation level (GeoBay.py, line 68)",
     "output_type": "error",
     "traceback": [
      "Traceback \u001b[36m(most recent call last)\u001b[39m:\n",
      "  File \u001b[92mc:\\Users\\shea9\\Documents\\Github\\geo\\Lib\\site-packages\\IPython\\core\\interactiveshell.py:3549\u001b[39m in \u001b[95mrun_code\u001b[39m\n    exec(code_obj, self.user_global_ns, self.user_ns)\n",
      "  Cell \u001b[92mIn[21]\u001b[39m\u001b[92m, line 1\u001b[39m\n    from GeoBay import CustomIpyleafletMap\n",
      "\u001b[36m  \u001b[39m\u001b[36mFile \u001b[39m\u001b[32mc:\\Users\\shea9\\Documents\\Github\\geo\\Lib\\site-packages\\GeoBay\\__init__.py:7\u001b[39m\n\u001b[31m    \u001b[39m\u001b[31mfrom .GeoBay import *\u001b[39m\n",
      "  \u001b[36mFile \u001b[39m\u001b[32mc:\\Users\\shea9\\Documents\\Github\\geo\\Lib\\site-packages\\GeoBay\\GeoBay.py:68\u001b[39m\n\u001b[31m    \u001b[39m\u001b[31mdef add_raster(self, url, name=None, colormap=None, opacity=1.0):\u001b[39m\n                                                                     ^\n\u001b[31mIndentationError\u001b[39m\u001b[31m:\u001b[39m unindent does not match any outer indentation level\n"
     ]
    }
   ],
   "source": [
    "from GeoBay import CustomIpyleafletMap"
   ]
  },
  {
   "cell_type": "code",
   "execution_count": 6,
   "id": "5cff74fd",
   "metadata": {},
   "outputs": [
    {
     "ename": "NameError",
     "evalue": "name 'CustomIpyleafletMap' is not defined",
     "output_type": "error",
     "traceback": [
      "\u001b[31m---------------------------------------------------------------------------\u001b[39m",
      "\u001b[31mNameError\u001b[39m                                 Traceback (most recent call last)",
      "\u001b[36mCell\u001b[39m\u001b[36m \u001b[39m\u001b[32mIn[6]\u001b[39m\u001b[32m, line 2\u001b[39m\n\u001b[32m      1\u001b[39m \u001b[38;5;66;03m# Create the map centered on a location (e.g., Knoxville, TN)\u001b[39;00m\n\u001b[32m----> \u001b[39m\u001b[32m2\u001b[39m mymap = \u001b[43mCustomIpyleafletMap\u001b[49m(center=[\u001b[32m35.9606\u001b[39m, -\u001b[32m83.9207\u001b[39m], zoom=\u001b[32m10\u001b[39m)\n\u001b[32m      3\u001b[39m mymap.add_basemap(\u001b[33m\"\u001b[39m\u001b[33mEsri.WorldImagery\u001b[39m\u001b[33m\"\u001b[39m)\n\u001b[32m      4\u001b[39m mymap.add_layer_control()\n",
      "\u001b[31mNameError\u001b[39m: name 'CustomIpyleafletMap' is not defined"
     ]
    }
   ],
   "source": [
    "# Create the map centered on a location (e.g., Knoxville, TN)\n",
    "mymap = CustomIpyleafletMap(center=[35.9606, -83.9207], zoom=10)\n",
    "mymap.add_basemap(\"Esri.WorldImagery\")\n",
    "mymap.add_layer_control()\n",
    "\n",
    "# Sample GeoDataFrame using built-in dataset from geopandas\n",
    "import geopandas as gpd\n",
    "\n",
    "gdf = gpd.read_file(gpd.datasets.get_path('naturalearth_lowres'))\n",
    "mymap.add_vector(gdf)\n",
    "\n",
    "# Sample tile layer from USGS\n",
    "url = \"https://basemap.nationalmap.gov/arcgis/rest/services/USGSTopo/MapServer/tile/{z}/{y}/{x}\"\n",
    "mymap.add_raster(url, name=\"USGS Topo\", opacity=0.6)\n",
    "\n",
    "# Sample image URL and bounds\n",
    "image_url = \"https://upload.wikimedia.org/wikipedia/commons/3/3c/Map_of_Knoxville_TN.png\"\n",
    "bounds = [(35.9, -84.1), (36.0, -83.8)]\n",
    "mymap.add_image(image_url, bounds, opacity=0.5)"
   ]
  },
  {
   "cell_type": "code",
   "execution_count": null,
   "id": "69f62d53",
   "metadata": {},
   "outputs": [],
   "source": []
  }
 ],
 "metadata": {
  "kernelspec": {
   "display_name": "geo",
   "language": "python",
   "name": "python3"
  },
  "language_info": {
   "codemirror_mode": {
    "name": "ipython",
    "version": 3
   },
   "file_extension": ".py",
   "mimetype": "text/x-python",
   "name": "python",
   "nbconvert_exporter": "python",
   "pygments_lexer": "ipython3",
   "version": "3.11.5"
  }
 },
 "nbformat": 4,
 "nbformat_minor": 5
}

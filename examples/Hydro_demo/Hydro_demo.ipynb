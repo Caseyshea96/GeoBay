{
 "cells": [
  {
   "cell_type": "code",
   "execution_count": 1,
   "id": "e3b60545",
   "metadata": {},
   "outputs": [
    {
     "data": {
      "application/vnd.jupyter.widget-view+json": {
       "model_id": "547fd8e539324a49b271a7d12ad8a749",
       "version_major": 2,
       "version_minor": 0
      },
      "text/plain": [
       "VBox(children=(HBox(children=(ToggleButtons(button_style='info', options=('Flood', 'Watershed'), tooltips=('Si…"
      ]
     },
     "metadata": {},
     "output_type": "display_data"
    },
    {
     "data": {
      "application/vnd.jupyter.widget-view+json": {
       "model_id": "0895577a3e614aea815cc43174750bdf",
       "version_major": 2,
       "version_minor": 0
      },
      "text/plain": [
       "Output()"
      ]
     },
     "metadata": {},
     "output_type": "display_data"
    },
    {
     "data": {
      "application/vnd.jupyter.widget-view+json": {
       "model_id": "528e213dec004a35995fb0972b51e5fd",
       "version_major": 2,
       "version_minor": 0
      },
      "text/plain": [
       "gb_map(center=[30.35, -91.1], controls=(ZoomControl(options=['position', 'zoom_in_text', 'zoom_in_title', 'zoo…"
      ]
     },
     "execution_count": 1,
     "metadata": {},
     "output_type": "execute_result"
    }
   ],
   "source": [
    "import ee\n",
    "from GeoBay.GeoBay import gb_map\n",
    "\n",
    "ee.Initialize()\n",
    "\n",
    "# Define a test bounding box (Mississippi River floodplain)\n",
    "bbox = ee.Geometry.BBox(-91.3, 30.1, -90.9, 30.6)\n",
    "\n",
    "# Create and show the map\n",
    "m = gb_map(center=[30.35, -91.1], zoom=10)\n",
    "m.add_basemap(\"OpenStreetMap\")\n",
    "m.enable_mode_toggle()\n",
    "\n",
    "m.show_map()\n"
   ]
  },
  {
   "cell_type": "code",
   "execution_count": null,
   "id": "3bdf1820",
   "metadata": {},
   "outputs": [],
   "source": []
  }
 ],
 "metadata": {
  "kernelspec": {
   "display_name": "geo",
   "language": "python",
   "name": "python3"
  },
  "language_info": {
   "codemirror_mode": {
    "name": "ipython",
    "version": 3
   },
   "file_extension": ".py",
   "mimetype": "text/x-python",
   "name": "python",
   "nbconvert_exporter": "python",
   "pygments_lexer": "ipython3",
   "version": "3.11.5"
  }
 },
 "nbformat": 4,
 "nbformat_minor": 5
}
